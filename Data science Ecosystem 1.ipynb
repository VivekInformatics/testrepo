{
 "cells": [
  {
   "cell_type": "markdown",
   "id": "4146dbb6",
   "metadata": {},
   "source": [
    "# Data Science Tools And Ecosystem"
   ]
  },
  {
   "cell_type": "markdown",
   "id": "f560c9f5",
   "metadata": {},
   "source": [
    "In this notebook, Data Science Tools and Ecosystem are summarized"
   ]
  },
  {
   "cell_type": "markdown",
   "id": "a7511123",
   "metadata": {},
   "source": [
    "Some of the popular languages that are used by Data Scientists are :\n",
    "1. python \n",
    "2. java\n",
    "3. SQL\n",
    "4. R\n",
    "5. C++\n"
   ]
  },
  {
   "cell_type": "markdown",
   "id": "22d4abac",
   "metadata": {},
   "source": [
    "Some of the commonly used libraries used by Data Scientists include:\n",
    "1. Pandas\n",
    "2. Numpy\n",
    "3. Keras\n",
    "4. Matplotlib\n",
    "5. TensorFlow\n",
    "6. PyTorch etc....;\n"
   ]
  },
  {
   "cell_type": "markdown",
   "id": "c6fefdb9",
   "metadata": {},
   "source": [
    "|Data Science Tools|\n",
    "|----|\n",
    "|python|\n",
    "|Apache spark|\n",
    "|Tensor Flow|"
   ]
  },
  {
   "cell_type": "markdown",
   "id": "51d3d99a",
   "metadata": {},
   "source": [
    "### Below are a few examples of evaluating arithmetic expressions in Python"
   ]
  },
  {
   "cell_type": "code",
   "execution_count": 11,
   "id": "0fcdf4ca",
   "metadata": {},
   "outputs": [
    {
     "data": {
      "text/plain": [
       "17"
      ]
     },
     "execution_count": 11,
     "metadata": {},
     "output_type": "execute_result"
    }
   ],
   "source": [
    "#This a simple arithmetic expression to mutiply then add integers:\n",
    "(3*4)+5"
   ]
  },
  {
   "cell_type": "code",
   "execution_count": 12,
   "id": "d6aa04ae",
   "metadata": {},
   "outputs": [
    {
     "data": {
      "text/plain": [
       "3.3333333333333335"
      ]
     },
     "execution_count": 12,
     "metadata": {},
     "output_type": "execute_result"
    }
   ],
   "source": [
    "#This will convert 200 minutes to hours by diving by 60:\n",
    "200/60"
   ]
  },
  {
   "cell_type": "markdown",
   "id": "ca7953b5",
   "metadata": {},
   "source": [
    "__objectives__\n",
    "* list for popular languages for Data Science \n",
    "* list for popular libraries for Data Science \n",
    "* How to create an Ordered list \n",
    "* How to add comments"
   ]
  },
  {
   "cell_type": "markdown",
   "id": "aafce19a",
   "metadata": {},
   "source": [
    "## Author\n",
    "V.Vivek Reddy"
   ]
  },
  {
   "cell_type": "code",
   "execution_count": null,
   "id": "b23c4b72",
   "metadata": {},
   "outputs": [],
   "source": []
  }
 ],
 "metadata": {
  "kernelspec": {
   "display_name": "Python 3 (ipykernel)",
   "language": "python",
   "name": "python3"
  },
  "language_info": {
   "codemirror_mode": {
    "name": "ipython",
    "version": 3
   },
   "file_extension": ".py",
   "mimetype": "text/x-python",
   "name": "python",
   "nbconvert_exporter": "python",
   "pygments_lexer": "ipython3",
   "version": "3.11.3"
  }
 },
 "nbformat": 4,
 "nbformat_minor": 5
}
